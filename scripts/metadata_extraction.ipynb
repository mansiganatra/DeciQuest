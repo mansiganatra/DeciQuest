{
 "cells": [
  {
   "cell_type": "code",
   "execution_count": 84,
   "metadata": {},
   "outputs": [],
   "source": [
    "from tika import parser\n",
    "import json\n",
    "import os"
   ]
  },
  {
   "cell_type": "code",
   "execution_count": 85,
   "metadata": {},
   "outputs": [],
   "source": [
    "mp3_metadata_dict = {}\n",
    "amazon_s3_basepath = \"http://deciquest.s3.us-east-2.amazonaws.com/data/\""
   ]
  },
  {
   "cell_type": "code",
   "execution_count": 86,
   "metadata": {},
   "outputs": [],
   "source": [
    "def parse_metadata_for_mp3(absolute_file_path, key):\n",
    "    mp3_metadata = parser.from_file(absolute_file_path)[\"metadata\"]\n",
    "    mp3_metadata_dict[key].update(metadata=mp3_metadata)\n",
    "   \n",
    "\n",
    "    #print('After adding metadata:' +json.dumps(mp3_metadata_dict[key]))\n",
    "    #print(\"Added metadata: \" + json.dumps(mp3_metadata))\n",
    "    #mp3_metadata_list.append(mp3_metadata)"
   ]
  },
  {
   "cell_type": "code",
   "execution_count": 87,
   "metadata": {},
   "outputs": [],
   "source": [
    "def parse_data_from_pdf(absolute_file_path, key):\n",
    "    parsedPdf = parser.from_file(absolute_file_path)\n",
    "    content_value = parsedPdf[\"content\"].replace('\\n','').replace('\\t','').encode(\"ascii\", \"ignore\")\n",
    "    mp3_metadata_dict[key].update(content=content_value)\n",
    "   \n",
    "    #print('After adding content:' +json.dumps(mp3_metadata_dict[key]))\n",
    "    #print json.dumps(content, indent =4, sort_keys = True)\n",
    "    "
   ]
  },
  {
   "cell_type": "code",
   "execution_count": 102,
   "metadata": {},
   "outputs": [
    {
     "name": "stdout",
     "output_type": "stream",
     "text": [
      "http://deciquest.s3.us-east-2.amazonaws.com/data/1\\1.mp3\n",
      "http://deciquest.s3.us-east-2.amazonaws.com/data/2\\2.mp3\n"
     ]
    }
   ],
   "source": [
    "data_directory_path = \"D:/Sem1/INF551/Project/DeciQuest/data\"\n",
    "output_path = \"D:/Sem1/INF551/Project/DeciQuest/index\"\n",
    "if os.path.isdir(data_directory_path):\n",
    "    for foldername in os.listdir(data_directory_path):\n",
    "        key = foldername.split('.')[0]\n",
    "        if(key not in mp3_metadata_dict.keys()):\n",
    "            mp3_metadata_dict[key] = {}\n",
    "        #print(\"Startin value: \" +  json.dumps(mp3_metadata_dict))\n",
    "        #print(key)\n",
    "        folderpath = os.path.abspath(os.path.join(data_directory_path, foldername))\n",
    "        for filename in os.listdir(folderpath):\n",
    "            filepath = os.path.abspath(os.path.join(folderpath, filename))\n",
    "            if(\".mp\" in filename):\n",
    "                parse_metadata_for_mp3(filepath, key)\n",
    "                mp3_storage_path = os.path.join(amazon_s3_basepath, key, filename)\n",
    "                print(mp3_storage_path)\n",
    "                mp3_metadata_dict[key].update({\"storage-path-mp3\": mp3_storage_path})\n",
    "            elif(\".pdf\" in filename):\n",
    "                parse_data_from_pdf(filepath, key)\n",
    "                pdf_storage_path = os.path.join(amazon_s3_basepath, key, filename)\n",
    "                mp3_metadata_dict[key].update({\"storage-path-pdf\": pdf_storage_path})\n",
    "    #print json.dumps(mp3_metadata_list, indent =4, sort_keys = True)\n",
    "    if not os.path.exists(output_path):\n",
    "        os.mkdir(output_path)\n",
    "    with open(os.path.join(output_path, \"metadata_transcript.json\"), 'w+') as f:\n",
    "        json.dump(mp3_metadata_dict, f)\n",
    "        "
   ]
  },
  {
   "cell_type": "code",
   "execution_count": null,
   "metadata": {},
   "outputs": [],
   "source": []
  },
  {
   "cell_type": "code",
   "execution_count": null,
   "metadata": {},
   "outputs": [],
   "source": []
  }
 ],
 "metadata": {
  "kernelspec": {
   "display_name": "Python 2",
   "language": "python",
   "name": "python2"
  },
  "language_info": {
   "codemirror_mode": {
    "name": "ipython",
    "version": 2
   },
   "file_extension": ".py",
   "mimetype": "text/x-python",
   "name": "python",
   "nbconvert_exporter": "python",
   "pygments_lexer": "ipython2",
   "version": "2.7.15"
  },
  "widgets": {
   "application/vnd.jupyter.widget-state+json": {
    "state": {},
    "version_major": 2,
    "version_minor": 0
   }
  }
 },
 "nbformat": 4,
 "nbformat_minor": 2
}
